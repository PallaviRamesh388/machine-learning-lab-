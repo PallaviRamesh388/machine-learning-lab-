{
 "cells": [
  {
   "cell_type": "code",
   "execution_count": 1,
   "metadata": {},
   "outputs": [
    {
     "name": "stdout",
     "output_type": "stream",
     "text": [
      "             Unnamed: 0  age  gender  family  diet  lifestyle  cholestrol  \\\n",
      "0                   NaN  0.0     0.0     1.0   1.0        3.0         0.0   \n",
      "1                   NaN  0.0     1.0     1.0   1.0        3.0         0.0   \n",
      "2                   NaN  1.0     0.0     0.0   0.0        2.0         1.0   \n",
      "3                   NaN  4.0     0.0     1.0   1.0        3.0         2.0   \n",
      "4                   NaN  3.0     1.0     1.0   0.0        0.0         2.0   \n",
      "5                   NaN  2.0     0.0     1.0   1.0        1.0         0.0   \n",
      "6                   NaN  4.0     0.0     1.0   0.0        2.0         0.0   \n",
      "7                   NaN  0.0     0.0     1.0   1.0        3.0         0.0   \n",
      "8                   NaN  3.0     1.0     1.0   0.0        0.0         2.0   \n",
      "9                   NaN  1.0     1.0     0.0   0.0        0.0         2.0   \n",
      "10                  NaN  4.0     1.0     0.0   1.0        2.0         0.0   \n",
      "11                  NaN  4.0     0.0     1.0   1.0        3.0         2.0   \n",
      "12                  NaN  2.0     1.0     0.0   0.0        0.0         0.0   \n",
      "13                  NaN  2.0     0.0     1.0   1.0        1.0         0.0   \n",
      "14                  NaN  3.0     1.0     1.0   0.0        0.0         1.0   \n",
      "15                  NaN  0.0     0.0     1.0   0.0        0.0         2.0   \n",
      "16                  NaN  1.0     1.0     0.0   1.0        2.0         1.0   \n",
      "17                  NaN  3.0     1.0     1.0   1.0        0.0         1.0   \n",
      "18                  NaN  4.0     0.0     1.0   1.0        3.0         2.0   \n",
      "19  © 2021 GitHub, Inc.  NaN     NaN     NaN   NaN        NaN         NaN   \n",
      "\n",
      "    heart disease  \n",
      "0             1.0  \n",
      "1             1.0  \n",
      "2             1.0  \n",
      "3             0.0  \n",
      "4             0.0  \n",
      "5             1.0  \n",
      "6             1.0  \n",
      "7             1.0  \n",
      "8             0.0  \n",
      "9             1.0  \n",
      "10            1.0  \n",
      "11            0.0  \n",
      "12            0.0  \n",
      "13            1.0  \n",
      "14            0.0  \n",
      "15            1.0  \n",
      "16            1.0  \n",
      "17            0.0  \n",
      "18            0.0  \n",
      "19            NaN  \n"
     ]
    },
    {
     "ename": "ModuleNotFoundError",
     "evalue": "No module named 'pgmpy'",
     "output_type": "error",
     "traceback": [
      "\u001b[1;31m---------------------------------------------------------------------------\u001b[0m",
      "\u001b[1;31mModuleNotFoundError\u001b[0m                       Traceback (most recent call last)",
      "\u001b[1;32m<ipython-input-1-ef138adbee62>\u001b[0m in \u001b[0;36m<module>\u001b[1;34m\u001b[0m\n\u001b[0;32m      4\u001b[0m \u001b[0mprint\u001b[0m\u001b[1;33m(\u001b[0m\u001b[0mheart_disease\u001b[0m\u001b[1;33m)\u001b[0m\u001b[1;33m\u001b[0m\u001b[1;33m\u001b[0m\u001b[0m\n\u001b[0;32m      5\u001b[0m \u001b[1;33m\u001b[0m\u001b[0m\n\u001b[1;32m----> 6\u001b[1;33m \u001b[1;32mfrom\u001b[0m \u001b[0mpgmpy\u001b[0m\u001b[1;33m.\u001b[0m\u001b[0mmodels\u001b[0m \u001b[1;32mimport\u001b[0m \u001b[0mBayesianModel\u001b[0m\u001b[1;33m\u001b[0m\u001b[1;33m\u001b[0m\u001b[0m\n\u001b[0m\u001b[0;32m      7\u001b[0m model=BayesianModel([\n\u001b[0;32m      8\u001b[0m \u001b[1;33m(\u001b[0m\u001b[1;34m'age'\u001b[0m\u001b[1;33m,\u001b[0m\u001b[1;34m'Lifestyle'\u001b[0m\u001b[1;33m)\u001b[0m\u001b[1;33m,\u001b[0m\u001b[1;33m\u001b[0m\u001b[1;33m\u001b[0m\u001b[0m\n",
      "\u001b[1;31mModuleNotFoundError\u001b[0m: No module named 'pgmpy'"
     ]
    }
   ],
   "source": [
    "import pandas as pd\n",
    "data=pd.read_csv(\"heart_disease_data1.csv\")\n",
    "heart_disease=pd.DataFrame(data)\n",
    "print(heart_disease)\n",
    "\n",
    "from pgmpy.models import BayesianModel\n",
    "model=BayesianModel([\n",
    "('age','Lifestyle'),\n",
    "('Gender','Lifestyle'),\n",
    "('Family','heartdisease'),\n",
    "('diet','cholestrol'),\n",
    "('Lifestyle','diet'),\n",
    "('cholestrol','heartdisease'),\n",
    "('diet','cholestrol')\n",
    "])\n",
    "\n",
    "from pgmpy.estimators import MaximumLikelihoodEstimator\n",
    "model.fit(heart_disease, estimator=MaximumLikelihoodEstimator)\n",
    "\n",
    "\n",
    "from pgmpy.inference import VariableElimination\n",
    "HeartDisease_infer = VariableElimination(model)\n",
    "\n",
    "print('For age enter SuperSeniorCitizen:0, SeniorCitizen:1, MiddleAged:2, Youth:3, Teen:4')\n",
    "print('For Gender Enter Male:0, Female:1')\n",
    "print('For Family History Enter yes:1, No:0')\n",
    "print('For diet Enter High:0, Medium:1')\n",
    "print('for lifeStyle Enter Athlete:0, Active:1, Moderate:2, Sedentary:3')\n",
    "print('for cholesterol Enter High:0, BorderLine:1, Normal:2')\n",
    "\n",
    "q = HeartDisease_infer.query(variables=['heartdisease'], evidence={\n",
    "    'age':int(input('enter age')),\n",
    "    'Gender':int(input('enter Gender')),\n",
    "    'Family':int(input('enter Family history')),\n",
    "    'diet':int(input('enter diet')),\n",
    "    'Lifestyle':int(input('enter Lifestyle')),\n",
    "    'cholestrol':int(input('enter cholestrol'))\n",
    "    })\n",
    "\n",
    "print(q['heartdisease'])"
   ]
  },
  {
   "cell_type": "code",
   "execution_count": null,
   "metadata": {},
   "outputs": [],
   "source": []
  }
 ],
 "metadata": {
  "kernelspec": {
   "display_name": "Python 3",
   "language": "python",
   "name": "python3"
  },
  "language_info": {
   "codemirror_mode": {
    "name": "ipython",
    "version": 3
   },
   "file_extension": ".py",
   "mimetype": "text/x-python",
   "name": "python",
   "nbconvert_exporter": "python",
   "pygments_lexer": "ipython3",
   "version": "3.7.6"
  }
 },
 "nbformat": 4,
 "nbformat_minor": 4
}
